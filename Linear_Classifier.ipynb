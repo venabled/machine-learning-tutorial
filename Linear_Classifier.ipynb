{
  "nbformat": 4,
  "nbformat_minor": 0,
  "metadata": {
    "colab": {
      "name": "Linear Classifier.ipynb",
      "version": "0.3.2",
      "provenance": [],
      "collapsed_sections": [],
      "include_colab_link": true
    },
    "kernelspec": {
      "name": "python3",
      "display_name": "Python 3"
    },
    "accelerator": "GPU"
  },
  "cells": [
    {
      "cell_type": "markdown",
      "metadata": {
        "id": "view-in-github",
        "colab_type": "text"
      },
      "source": [
        "[View in Colaboratory](https://colab.research.google.com/github/venabled/machine-learning-tutorial/blob/master/Linear_Classifier.ipynb)"
      ]
    },
    {
      "metadata": {
        "id": "2jpxDFHhPbNm",
        "colab_type": "code",
        "colab": {
          "base_uri": "https://localhost:8080/",
          "height": 35
        },
        "outputId": "ea900a6f-0636-449d-e3fc-6faeb37e7b33"
      },
      "cell_type": "code",
      "source": [
        "from keras.datasets import cifar10\n",
        "import numpy as np\n",
        "import matplotlib.pyplot as plt\n",
        "from keras.models import Sequential\n",
        "from keras.layers import Dense, Activation, Flatten\n",
        "from keras.losses import categorical_crossentropy\n",
        "import keras.utils"
      ],
      "execution_count": 1,
      "outputs": [
        {
          "output_type": "stream",
          "text": [
            "Using TensorFlow backend.\n"
          ],
          "name": "stderr"
        }
      ]
    },
    {
      "metadata": {
        "id": "o7I8vacfPh0K",
        "colab_type": "code",
        "colab": {
          "base_uri": "https://localhost:8080/",
          "height": 53
        },
        "outputId": "637b36ee-04df-48a2-c2f4-a7b5fb624040"
      },
      "cell_type": "code",
      "source": [
        "(x_train, y_train), (x_test, y_test) = cifar10.load_data()\n",
        "x_train = x_train.astype(np.float32)\n",
        "x_test = x_test.astype(np.float32)\n",
        "x_train -= 128.0\n",
        "x_test -= 128.0\n",
        "y_train = keras.utils.to_categorical(y_train)\n",
        "y_test = keras.utils.to_categorical(y_test)"
      ],
      "execution_count": 2,
      "outputs": [
        {
          "output_type": "stream",
          "text": [
            "Downloading data from https://www.cs.toronto.edu/~kriz/cifar-10-python.tar.gz\n",
            "170500096/170498071 [==============================] - 25s 0us/step\n"
          ],
          "name": "stdout"
        }
      ]
    },
    {
      "metadata": {
        "id": "f-QlWtpoPuS7",
        "colab_type": "code",
        "colab": {
          "base_uri": "https://localhost:8080/",
          "height": 35
        },
        "outputId": "38ab9109-b733-43f1-e6a0-89703c1a8ba0"
      },
      "cell_type": "code",
      "source": [
        "x_train.shape"
      ],
      "execution_count": 3,
      "outputs": [
        {
          "output_type": "execute_result",
          "data": {
            "text/plain": [
              "(50000, 32, 32, 3)"
            ]
          },
          "metadata": {
            "tags": []
          },
          "execution_count": 3
        }
      ]
    },
    {
      "metadata": {
        "id": "OwyoOgAwRjV6",
        "colab_type": "code",
        "colab": {
          "base_uri": "https://localhost:8080/",
          "height": 35
        },
        "outputId": "d1c77864-be3e-487d-84f2-7ac7d587e7c9"
      },
      "cell_type": "code",
      "source": [
        "y_train.shape"
      ],
      "execution_count": 4,
      "outputs": [
        {
          "output_type": "execute_result",
          "data": {
            "text/plain": [
              "(50000, 10)"
            ]
          },
          "metadata": {
            "tags": []
          },
          "execution_count": 4
        }
      ]
    },
    {
      "metadata": {
        "id": "T5f3Llu_QVSr",
        "colab_type": "code",
        "colab": {}
      },
      "cell_type": "code",
      "source": [
        "labels =  ['airplane', 'automobile', 'bird', 'cat', 'deer', 'dog', 'frog', 'horse', 'ship', 'truck']"
      ],
      "execution_count": 0,
      "outputs": []
    },
    {
      "metadata": {
        "id": "CGSJbb3ZSS7e",
        "colab_type": "code",
        "colab": {
          "base_uri": "https://localhost:8080/",
          "height": 249
        },
        "outputId": "69346608-687d-4bb2-8fba-bd5371781c2a"
      },
      "cell_type": "code",
      "source": [
        "model = Sequential()\n",
        "model.add(Flatten(input_shape=(32, 32, 3)))\n",
        "model.add(Dense(10))\n",
        "model.add(Activation('softmax'))\n",
        "\n",
        "model.compile(optimizer='adam',\n",
        "              loss='categorical_crossentropy',\n",
        "              metrics=['accuracy'])\n",
        "\n",
        "model.summary()"
      ],
      "execution_count": 6,
      "outputs": [
        {
          "output_type": "stream",
          "text": [
            "_________________________________________________________________\n",
            "Layer (type)                 Output Shape              Param #   \n",
            "=================================================================\n",
            "flatten_1 (Flatten)          (None, 3072)              0         \n",
            "_________________________________________________________________\n",
            "dense_1 (Dense)              (None, 10)                30730     \n",
            "_________________________________________________________________\n",
            "activation_1 (Activation)    (None, 10)                0         \n",
            "=================================================================\n",
            "Total params: 30,730\n",
            "Trainable params: 30,730\n",
            "Non-trainable params: 0\n",
            "_________________________________________________________________\n"
          ],
          "name": "stdout"
        }
      ]
    },
    {
      "metadata": {
        "id": "09NSxlnBT8K5",
        "colab_type": "code",
        "colab": {
          "base_uri": "https://localhost:8080/",
          "height": 35
        },
        "outputId": "f9cbedfa-cf90-4a03-9cbd-65bab892e02d"
      },
      "cell_type": "code",
      "source": [
        "import keras.backend as K\n",
        "K.get_value(model.optimizer.lr)"
      ],
      "execution_count": 7,
      "outputs": [
        {
          "output_type": "execute_result",
          "data": {
            "text/plain": [
              "0.001"
            ]
          },
          "metadata": {
            "tags": []
          },
          "execution_count": 7
        }
      ]
    },
    {
      "metadata": {
        "id": "wMgy0axfHv6i",
        "colab_type": "code",
        "colab": {
          "base_uri": "https://localhost:8080/",
          "height": 53
        },
        "outputId": "71a56004-0513-4413-b9a4-8ef87e39d0d7"
      },
      "cell_type": "code",
      "source": [
        "model.evaluate(x_test,  y_test)"
      ],
      "execution_count": 8,
      "outputs": [
        {
          "output_type": "stream",
          "text": [
            "10000/10000 [==============================] - 1s 112us/step\n"
          ],
          "name": "stdout"
        },
        {
          "output_type": "execute_result",
          "data": {
            "text/plain": [
              "[14.521052722167969, 0.0843]"
            ]
          },
          "metadata": {
            "tags": []
          },
          "execution_count": 8
        }
      ]
    },
    {
      "metadata": {
        "id": "CQvmrWhSToUx",
        "colab_type": "code",
        "colab": {
          "base_uri": "https://localhost:8080/",
          "height": 71
        },
        "outputId": "c2d0b07a-c67c-4089-ae7e-9bd17280a099"
      },
      "cell_type": "code",
      "source": [
        "history = model.fit(x_train, y_train,\n",
        "                    epochs=1,\n",
        "                    batch_size=128,\n",
        "                    validation_data=(x_test, y_test),\n",
        "                    verbose=2)"
      ],
      "execution_count": 9,
      "outputs": [
        {
          "output_type": "stream",
          "text": [
            "Train on 50000 samples, validate on 10000 samples\n",
            "Epoch 1/1\n",
            " - 3s - loss: 12.4737 - acc: 0.2227 - val_loss: 11.8385 - val_acc: 0.2629\n"
          ],
          "name": "stdout"
        }
      ]
    },
    {
      "metadata": {
        "id": "Je_0QdGDX6Hu",
        "colab_type": "code",
        "colab": {
          "base_uri": "https://localhost:8080/",
          "height": 53
        },
        "outputId": "d3987002-332e-4709-95eb-7497859d39f5"
      },
      "cell_type": "code",
      "source": [
        "model.evaluate(x_test,  y_test)"
      ],
      "execution_count": 10,
      "outputs": [
        {
          "output_type": "stream",
          "text": [
            "10000/10000 [==============================] - 1s 88us/step\n"
          ],
          "name": "stdout"
        },
        {
          "output_type": "execute_result",
          "data": {
            "text/plain": [
              "[11.838543424987792, 0.2629]"
            ]
          },
          "metadata": {
            "tags": []
          },
          "execution_count": 10
        }
      ]
    },
    {
      "metadata": {
        "id": "eRwC-zOWIANa",
        "colab_type": "code",
        "colab": {
          "base_uri": "https://localhost:8080/",
          "height": 392
        },
        "outputId": "f908c53e-00fb-4fc1-e96c-badfa61f5138"
      },
      "cell_type": "code",
      "source": [
        "history = model.fit(x_train, y_train,\n",
        "                    epochs=10,\n",
        "                    batch_size=128,\n",
        "                    validation_data=(x_test, y_test),\n",
        "                    verbose=2)"
      ],
      "execution_count": 11,
      "outputs": [
        {
          "output_type": "stream",
          "text": [
            "Train on 50000 samples, validate on 10000 samples\n",
            "Epoch 1/10\n",
            " - 3s - loss: 11.8552 - acc: 0.2626 - val_loss: 11.5749 - val_acc: 0.2798\n",
            "Epoch 2/10\n",
            " - 3s - loss: 11.7512 - acc: 0.2695 - val_loss: 11.6251 - val_acc: 0.2774\n",
            "Epoch 3/10\n",
            " - 3s - loss: 11.6891 - acc: 0.2735 - val_loss: 11.5897 - val_acc: 0.2790\n",
            "Epoch 4/10\n",
            " - 3s - loss: 11.5449 - acc: 0.2823 - val_loss: 11.6478 - val_acc: 0.2763\n",
            "Epoch 5/10\n",
            " - 3s - loss: 11.4166 - acc: 0.2903 - val_loss: 11.2773 - val_acc: 0.2991\n",
            "Epoch 6/10\n",
            " - 3s - loss: 11.3030 - acc: 0.2975 - val_loss: 11.2562 - val_acc: 0.3009\n",
            "Epoch 7/10\n",
            " - 3s - loss: 11.3462 - acc: 0.2949 - val_loss: 11.7094 - val_acc: 0.2728\n",
            "Epoch 8/10\n",
            " - 3s - loss: 11.3022 - acc: 0.2978 - val_loss: 11.0342 - val_acc: 0.3143\n",
            "Epoch 9/10\n",
            " - 3s - loss: 11.2480 - acc: 0.3013 - val_loss: 11.1833 - val_acc: 0.3055\n",
            "Epoch 10/10\n",
            " - 3s - loss: 11.1009 - acc: 0.3102 - val_loss: 11.0959 - val_acc: 0.3107\n"
          ],
          "name": "stdout"
        }
      ]
    },
    {
      "metadata": {
        "id": "FmEtr4pPR4T0",
        "colab_type": "code",
        "colab": {}
      },
      "cell_type": "code",
      "source": [
        "K.set_value(model.optimizer.lr, 0.0001)"
      ],
      "execution_count": 0,
      "outputs": []
    },
    {
      "metadata": {
        "id": "3TDMOiJAJs6Q",
        "colab_type": "code",
        "colab": {
          "base_uri": "https://localhost:8080/",
          "height": 392
        },
        "outputId": "9eb33725-77fc-46ef-f8bf-66b689d74509"
      },
      "cell_type": "code",
      "source": [
        "history = model.fit(x_train, y_train,\n",
        "                    epochs=10,\n",
        "                    batch_size=128,\n",
        "                    validation_data=(x_test, y_test),\n",
        "                    verbose=2)"
      ],
      "execution_count": 13,
      "outputs": [
        {
          "output_type": "stream",
          "text": [
            "Train on 50000 samples, validate on 10000 samples\n",
            "Epoch 1/10\n",
            " - 3s - loss: 11.0466 - acc: 0.3135 - val_loss: 10.9752 - val_acc: 0.3181\n",
            "Epoch 2/10\n",
            " - 3s - loss: 10.8685 - acc: 0.3248 - val_loss: 10.8398 - val_acc: 0.3265\n",
            "Epoch 3/10\n",
            " - 3s - loss: 10.7918 - acc: 0.3294 - val_loss: 10.7725 - val_acc: 0.3302\n",
            "Epoch 4/10\n",
            " - 3s - loss: 10.7710 - acc: 0.3305 - val_loss: 10.7684 - val_acc: 0.3307\n",
            "Epoch 5/10\n",
            " - 3s - loss: 10.7511 - acc: 0.3320 - val_loss: 10.7412 - val_acc: 0.3323\n",
            "Epoch 6/10\n",
            " - 3s - loss: 10.7213 - acc: 0.3337 - val_loss: 10.7311 - val_acc: 0.3335\n",
            "Epoch 7/10\n",
            " - 3s - loss: 10.7022 - acc: 0.3348 - val_loss: 10.7110 - val_acc: 0.3345\n",
            "Epoch 8/10\n",
            " - 3s - loss: 10.6935 - acc: 0.3356 - val_loss: 10.7431 - val_acc: 0.3326\n",
            "Epoch 9/10\n",
            " - 3s - loss: 10.6777 - acc: 0.3366 - val_loss: 10.7061 - val_acc: 0.3344\n",
            "Epoch 10/10\n",
            " - 3s - loss: 10.6605 - acc: 0.3374 - val_loss: 10.7430 - val_acc: 0.3327\n"
          ],
          "name": "stdout"
        }
      ]
    }
  ]
}