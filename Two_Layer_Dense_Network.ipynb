{
  "nbformat": 4,
  "nbformat_minor": 0,
  "metadata": {
    "colab": {
      "name": "Two Layer Dense Network.ipynb",
      "version": "0.3.2",
      "provenance": [],
      "collapsed_sections": [],
      "include_colab_link": true
    },
    "kernelspec": {
      "name": "python3",
      "display_name": "Python 3"
    },
    "accelerator": "GPU"
  },
  "cells": [
    {
      "cell_type": "markdown",
      "metadata": {
        "id": "view-in-github",
        "colab_type": "text"
      },
      "source": [
        "[View in Colaboratory](https://colab.research.google.com/github/venabled/machine-learning-tutorial/blob/master/Two_Layer_Dense_Network.ipynb)"
      ]
    },
    {
      "metadata": {
        "id": "2jpxDFHhPbNm",
        "colab_type": "code",
        "colab": {}
      },
      "cell_type": "code",
      "source": [
        "from keras.datasets import cifar10\n",
        "import numpy as np\n",
        "import matplotlib.pyplot as plt\n",
        "from keras.models import Sequential\n",
        "from keras.layers import Dense, Activation, Flatten, BatchNormalization\n",
        "from keras.losses import categorical_crossentropy\n",
        "from keras.regularizers import l2\n",
        "from keras.callbacks import ReduceLROnPlateau\n",
        "import keras.utils"
      ],
      "execution_count": 0,
      "outputs": []
    },
    {
      "metadata": {
        "id": "Rjjj5vA9-zn2",
        "colab_type": "code",
        "colab": {
          "base_uri": "https://localhost:8080/",
          "height": 153
        },
        "outputId": "eff9141c-ebff-461e-d885-c92fd125e55b"
      },
      "cell_type": "code",
      "source": [
        ""
      ],
      "execution_count": 56,
      "outputs": [
        {
          "output_type": "stream",
          "text": [
            "Collecting simplekml\n",
            "  Downloading https://files.pythonhosted.org/packages/62/88/feeb5ac5ae528c81daed9fe9864ec42496b80ffbcf83ac60bb6feb5b7f80/simplekml-1.3.1.tar.gz\n",
            "Building wheels for collected packages: simplekml\n",
            "  Running setup.py bdist_wheel for simplekml ... \u001b[?25l-\b \b\\\b \bdone\n",
            "\u001b[?25h  Stored in directory: /content/.cache/pip/wheels/12/12/8f/9e22dd924dc3cedb41f9888379000713e980478437af610d0e\n",
            "Successfully built simplekml\n",
            "Installing collected packages: simplekml\n",
            "Successfully installed simplekml-1.3.1\n"
          ],
          "name": "stdout"
        }
      ]
    },
    {
      "metadata": {
        "id": "o7I8vacfPh0K",
        "colab_type": "code",
        "colab": {
          "base_uri": "https://localhost:8080/",
          "height": 51
        },
        "outputId": "d85d89b7-6076-44ac-9804-28b663474bbe"
      },
      "cell_type": "code",
      "source": [
        "(x_train, y_train), (x_test, y_test) = cifar10.load_data()\n",
        "x_train = x_train.astype(np.float32)\n",
        "x_test = x_test.astype(np.float32)\n",
        "x_train -= 128.0\n",
        "x_test -= 128.0\n",
        "y_train = keras.utils.to_categorical(y_train)\n",
        "y_test = keras.utils.to_categorical(y_test)"
      ],
      "execution_count": 2,
      "outputs": [
        {
          "output_type": "stream",
          "text": [
            "Downloading data from https://www.cs.toronto.edu/~kriz/cifar-10-python.tar.gz\n",
            "170500096/170498071 [==============================] - 41s 0us/step\n"
          ],
          "name": "stdout"
        }
      ]
    },
    {
      "metadata": {
        "id": "CGSJbb3ZSS7e",
        "colab_type": "code",
        "colab": {
          "base_uri": "https://localhost:8080/",
          "height": 340
        },
        "outputId": "790d0997-e54c-4784-f010-ac2f507a5141"
      },
      "cell_type": "code",
      "source": [
        "model = Sequential()\n",
        "model.add(Flatten(input_shape=(32, 32, 3)))\n",
        "model.add(Dense(100, kernel_regularizer=l2(0.002)))\n",
        "model.add(Activation('elu'))\n",
        "# model.add(Dense(64, kernel_regularizer=l2(0.001)))\n",
        "# model.add(Activation('sigmoid'))\n",
        "model.add(BatchNormalization())\n",
        "model.add(Dense(10, kernel_regularizer=l2(0.001)))\n",
        "model.add(Activation('softmax'))\n",
        "\n",
        "model.compile(optimizer='nadam',\n",
        "              loss='categorical_crossentropy',\n",
        "              metrics=['accuracy'])\n",
        "\n",
        "model.summary()"
      ],
      "execution_count": 54,
      "outputs": [
        {
          "output_type": "stream",
          "text": [
            "_________________________________________________________________\n",
            "Layer (type)                 Output Shape              Param #   \n",
            "=================================================================\n",
            "flatten_8 (Flatten)          (None, 3072)              0         \n",
            "_________________________________________________________________\n",
            "dense_16 (Dense)             (None, 100)               307300    \n",
            "_________________________________________________________________\n",
            "activation_16 (Activation)   (None, 100)               0         \n",
            "_________________________________________________________________\n",
            "batch_normalization_4 (Batch (None, 100)               400       \n",
            "_________________________________________________________________\n",
            "dense_17 (Dense)             (None, 10)                1010      \n",
            "_________________________________________________________________\n",
            "activation_17 (Activation)   (None, 10)                0         \n",
            "=================================================================\n",
            "Total params: 308,710\n",
            "Trainable params: 308,510\n",
            "Non-trainable params: 200\n",
            "_________________________________________________________________\n"
          ],
          "name": "stdout"
        }
      ]
    },
    {
      "metadata": {
        "id": "09NSxlnBT8K5",
        "colab_type": "code",
        "colab": {
          "base_uri": "https://localhost:8080/",
          "height": 34
        },
        "outputId": "37866cd2-4c08-4ba3-e2a7-6dbf21a2b695"
      },
      "cell_type": "code",
      "source": [
        "import keras.backend as K\n",
        "K.get_value(model.optimizer.lr)"
      ],
      "execution_count": 17,
      "outputs": [
        {
          "output_type": "execute_result",
          "data": {
            "text/plain": [
              "0.00020000001"
            ]
          },
          "metadata": {
            "tags": []
          },
          "execution_count": 17
        }
      ]
    },
    {
      "metadata": {
        "id": "eRwC-zOWIANa",
        "colab_type": "code",
        "colab": {
          "base_uri": "https://localhost:8080/",
          "height": 3434
        },
        "outputId": "6433dd30-633e-42a3-aba3-4eab08ca4ad3"
      },
      "cell_type": "code",
      "source": [
        "history = model.fit(x_train, y_train,\n",
        "                    epochs=100,\n",
        "                    batch_size=64,\n",
        "                    validation_data=(x_test, y_test),\n",
        "                    verbose=1, \n",
        "                    callbacks=[ReduceLROnPlateau(patience=5)])"
      ],
      "execution_count": 55,
      "outputs": [
        {
          "output_type": "stream",
          "text": [
            "Train on 50000 samples, validate on 10000 samples\n",
            "Epoch 1/100\n",
            "50000/50000 [==============================] - 9s 184us/step - loss: 1.8736 - acc: 0.4055 - val_loss: 1.7864 - val_acc: 0.4134\n",
            "Epoch 2/100\n",
            "50000/50000 [==============================] - 8s 166us/step - loss: 1.7348 - acc: 0.4435 - val_loss: 1.7759 - val_acc: 0.4192\n",
            "Epoch 3/100\n",
            "50000/50000 [==============================] - 9s 171us/step - loss: 1.7182 - acc: 0.4493 - val_loss: 1.7264 - val_acc: 0.4483\n",
            "Epoch 4/100\n",
            "50000/50000 [==============================] - 8s 162us/step - loss: 1.7071 - acc: 0.4529 - val_loss: 1.7237 - val_acc: 0.4479\n",
            "Epoch 5/100\n",
            "50000/50000 [==============================] - 9s 171us/step - loss: 1.6973 - acc: 0.4532 - val_loss: 1.7234 - val_acc: 0.4441\n",
            "Epoch 6/100\n",
            "50000/50000 [==============================] - 8s 165us/step - loss: 1.6932 - acc: 0.4557 - val_loss: 1.6948 - val_acc: 0.4462\n",
            "Epoch 7/100\n",
            "50000/50000 [==============================] - 8s 166us/step - loss: 1.6826 - acc: 0.4574 - val_loss: 1.8482 - val_acc: 0.4302\n",
            "Epoch 8/100\n",
            "50000/50000 [==============================] - 8s 169us/step - loss: 1.6794 - acc: 0.4561 - val_loss: 1.7118 - val_acc: 0.4397\n",
            "Epoch 9/100\n",
            "50000/50000 [==============================] - 8s 164us/step - loss: 1.6736 - acc: 0.4598 - val_loss: 1.6597 - val_acc: 0.4652\n",
            "Epoch 10/100\n",
            "50000/50000 [==============================] - 8s 169us/step - loss: 1.6686 - acc: 0.4589 - val_loss: 1.6600 - val_acc: 0.4572\n",
            "Epoch 11/100\n",
            "50000/50000 [==============================] - 8s 164us/step - loss: 1.6658 - acc: 0.4597 - val_loss: 1.6653 - val_acc: 0.4614\n",
            "Epoch 12/100\n",
            "50000/50000 [==============================] - 8s 167us/step - loss: 1.6620 - acc: 0.4588 - val_loss: 1.6785 - val_acc: 0.4502\n",
            "Epoch 13/100\n",
            "50000/50000 [==============================] - 8s 169us/step - loss: 1.6604 - acc: 0.4606 - val_loss: 1.6850 - val_acc: 0.4504\n",
            "Epoch 14/100\n",
            "50000/50000 [==============================] - 8s 163us/step - loss: 1.6567 - acc: 0.4619 - val_loss: 1.6796 - val_acc: 0.4538\n",
            "Epoch 15/100\n",
            "50000/50000 [==============================] - 8s 170us/step - loss: 1.5298 - acc: 0.5042 - val_loss: 1.5278 - val_acc: 0.4978\n",
            "Epoch 16/100\n",
            "50000/50000 [==============================] - 8s 165us/step - loss: 1.4734 - acc: 0.5193 - val_loss: 1.5052 - val_acc: 0.5013\n",
            "Epoch 17/100\n",
            "50000/50000 [==============================] - 9s 170us/step - loss: 1.4437 - acc: 0.5251 - val_loss: 1.4912 - val_acc: 0.5092\n",
            "Epoch 18/100\n",
            "50000/50000 [==============================] - 8s 169us/step - loss: 1.4200 - acc: 0.5312 - val_loss: 1.4828 - val_acc: 0.5070\n",
            "Epoch 19/100\n",
            "50000/50000 [==============================] - 8s 166us/step - loss: 1.4008 - acc: 0.5357 - val_loss: 1.4723 - val_acc: 0.5072\n",
            "Epoch 20/100\n",
            "50000/50000 [==============================] - 9s 170us/step - loss: 1.3847 - acc: 0.5415 - val_loss: 1.4742 - val_acc: 0.5098\n",
            "Epoch 21/100\n",
            "50000/50000 [==============================] - 8s 162us/step - loss: 1.3726 - acc: 0.5451 - val_loss: 1.4657 - val_acc: 0.5103\n",
            "Epoch 22/100\n",
            "50000/50000 [==============================] - 8s 169us/step - loss: 1.3553 - acc: 0.5506 - val_loss: 1.4592 - val_acc: 0.5184\n",
            "Epoch 23/100\n",
            "50000/50000 [==============================] - 8s 169us/step - loss: 1.3487 - acc: 0.5527 - val_loss: 1.4683 - val_acc: 0.5137\n",
            "Epoch 24/100\n",
            "50000/50000 [==============================] - 8s 168us/step - loss: 1.3375 - acc: 0.5592 - val_loss: 1.4662 - val_acc: 0.5152\n",
            "Epoch 25/100\n",
            "50000/50000 [==============================] - 9s 171us/step - loss: 1.3272 - acc: 0.5591 - val_loss: 1.4635 - val_acc: 0.5125\n",
            "Epoch 26/100\n",
            "50000/50000 [==============================] - 8s 165us/step - loss: 1.3152 - acc: 0.5648 - val_loss: 1.4702 - val_acc: 0.5127\n",
            "Epoch 27/100\n",
            "50000/50000 [==============================] - 9s 171us/step - loss: 1.3080 - acc: 0.5698 - val_loss: 1.4626 - val_acc: 0.5125\n",
            "Epoch 28/100\n",
            "50000/50000 [==============================] - 8s 164us/step - loss: 1.2487 - acc: 0.5918 - val_loss: 1.4437 - val_acc: 0.5176\n",
            "Epoch 29/100\n",
            "50000/50000 [==============================] - 8s 169us/step - loss: 1.2347 - acc: 0.5977 - val_loss: 1.4425 - val_acc: 0.5200\n",
            "Epoch 30/100\n",
            "50000/50000 [==============================] - 9s 170us/step - loss: 1.2313 - acc: 0.5994 - val_loss: 1.4459 - val_acc: 0.5188\n",
            "Epoch 31/100\n",
            "50000/50000 [==============================] - 8s 165us/step - loss: 1.2225 - acc: 0.6023 - val_loss: 1.4426 - val_acc: 0.5209\n",
            "Epoch 32/100\n",
            "50000/50000 [==============================] - 9s 171us/step - loss: 1.2197 - acc: 0.6042 - val_loss: 1.4443 - val_acc: 0.5184\n",
            "Epoch 33/100\n",
            "50000/50000 [==============================] - 8s 165us/step - loss: 1.2159 - acc: 0.6046 - val_loss: 1.4457 - val_acc: 0.5190\n",
            "Epoch 34/100\n",
            "50000/50000 [==============================] - 9s 171us/step - loss: 1.2154 - acc: 0.6040 - val_loss: 1.4443 - val_acc: 0.5214\n",
            "Epoch 35/100\n",
            "50000/50000 [==============================] - 8s 167us/step - loss: 1.2031 - acc: 0.6085 - val_loss: 1.4432 - val_acc: 0.5223\n",
            "Epoch 36/100\n",
            "50000/50000 [==============================] - 8s 167us/step - loss: 1.2006 - acc: 0.6108 - val_loss: 1.4435 - val_acc: 0.5202\n",
            "Epoch 37/100\n",
            "50000/50000 [==============================] - 9s 171us/step - loss: 1.1994 - acc: 0.6117 - val_loss: 1.4431 - val_acc: 0.5228\n",
            "Epoch 38/100\n",
            "50000/50000 [==============================] - 8s 163us/step - loss: 1.2004 - acc: 0.6117 - val_loss: 1.4437 - val_acc: 0.5217\n",
            "Epoch 39/100\n",
            "50000/50000 [==============================] - 8s 168us/step - loss: 1.2002 - acc: 0.6102 - val_loss: 1.4436 - val_acc: 0.5220\n",
            "Epoch 40/100\n",
            "50000/50000 [==============================] - 8s 168us/step - loss: 1.1989 - acc: 0.6123 - val_loss: 1.4434 - val_acc: 0.5213\n",
            "Epoch 41/100\n",
            "50000/50000 [==============================] - 8s 165us/step - loss: 1.1992 - acc: 0.6110 - val_loss: 1.4435 - val_acc: 0.5227\n",
            "Epoch 42/100\n",
            "50000/50000 [==============================] - 8s 169us/step - loss: 1.1975 - acc: 0.6127 - val_loss: 1.4436 - val_acc: 0.5214\n",
            "Epoch 43/100\n",
            "50000/50000 [==============================] - 8s 162us/step - loss: 1.1975 - acc: 0.6125 - val_loss: 1.4439 - val_acc: 0.5219\n",
            "Epoch 44/100\n",
            "50000/50000 [==============================] - 8s 169us/step - loss: 1.1988 - acc: 0.6109 - val_loss: 1.4437 - val_acc: 0.5214\n",
            "Epoch 45/100\n",
            "50000/50000 [==============================] - 8s 168us/step - loss: 1.1985 - acc: 0.6105 - val_loss: 1.4438 - val_acc: 0.5213\n",
            "Epoch 46/100\n",
            "50000/50000 [==============================] - 8s 166us/step - loss: 1.1982 - acc: 0.6121 - val_loss: 1.4433 - val_acc: 0.5218\n",
            "Epoch 47/100\n",
            "50000/50000 [==============================] - 8s 169us/step - loss: 1.1963 - acc: 0.6123 - val_loss: 1.4436 - val_acc: 0.5210\n",
            "Epoch 48/100\n",
            "50000/50000 [==============================] - 8s 165us/step - loss: 1.1963 - acc: 0.6122 - val_loss: 1.4430 - val_acc: 0.5202\n",
            "Epoch 49/100\n",
            "50000/50000 [==============================] - 9s 171us/step - loss: 1.1983 - acc: 0.6118 - val_loss: 1.4432 - val_acc: 0.5203\n",
            "Epoch 50/100\n",
            "50000/50000 [==============================] - 8s 166us/step - loss: 1.1986 - acc: 0.6115 - val_loss: 1.4439 - val_acc: 0.5212\n",
            "Epoch 51/100\n",
            "50000/50000 [==============================] - 8s 170us/step - loss: 1.1994 - acc: 0.6109 - val_loss: 1.4437 - val_acc: 0.5208\n",
            "Epoch 52/100\n",
            "50000/50000 [==============================] - 9s 171us/step - loss: 1.1979 - acc: 0.6121 - val_loss: 1.4437 - val_acc: 0.5230\n",
            "Epoch 53/100\n",
            "50000/50000 [==============================] - 8s 166us/step - loss: 1.2005 - acc: 0.6105 - val_loss: 1.4433 - val_acc: 0.5212\n",
            "Epoch 54/100\n",
            "50000/50000 [==============================] - 9s 171us/step - loss: 1.1978 - acc: 0.6104 - val_loss: 1.4436 - val_acc: 0.5215\n",
            "Epoch 55/100\n",
            "50000/50000 [==============================] - 8s 165us/step - loss: 1.1980 - acc: 0.6121 - val_loss: 1.4436 - val_acc: 0.5214\n",
            "Epoch 56/100\n",
            "50000/50000 [==============================] - 8s 169us/step - loss: 1.1994 - acc: 0.6109 - val_loss: 1.4437 - val_acc: 0.5225\n",
            "Epoch 57/100\n",
            "50000/50000 [==============================] - 8s 169us/step - loss: 1.1978 - acc: 0.6114 - val_loss: 1.4442 - val_acc: 0.5225\n",
            "Epoch 58/100\n",
            "50000/50000 [==============================] - 8s 166us/step - loss: 1.1982 - acc: 0.6127 - val_loss: 1.4436 - val_acc: 0.5216\n",
            "Epoch 59/100\n",
            "50000/50000 [==============================] - 9s 172us/step - loss: 1.1998 - acc: 0.6105 - val_loss: 1.4429 - val_acc: 0.5220\n",
            "Epoch 60/100\n",
            "50000/50000 [==============================] - 8s 166us/step - loss: 1.1987 - acc: 0.6118 - val_loss: 1.4434 - val_acc: 0.5218\n",
            "Epoch 61/100\n",
            "50000/50000 [==============================] - 9s 171us/step - loss: 1.1962 - acc: 0.6121 - val_loss: 1.4431 - val_acc: 0.5204\n",
            "Epoch 62/100\n",
            "50000/50000 [==============================] - 8s 167us/step - loss: 1.2007 - acc: 0.6100 - val_loss: 1.4439 - val_acc: 0.5218\n",
            "Epoch 63/100\n",
            "50000/50000 [==============================] - 8s 166us/step - loss: 1.1985 - acc: 0.6107 - val_loss: 1.4436 - val_acc: 0.5214\n",
            "Epoch 64/100\n",
            "50000/50000 [==============================] - 8s 169us/step - loss: 1.1988 - acc: 0.6122 - val_loss: 1.4433 - val_acc: 0.5208\n",
            "Epoch 65/100\n",
            "50000/50000 [==============================] - 8s 165us/step - loss: 1.1973 - acc: 0.6112 - val_loss: 1.4438 - val_acc: 0.5211\n",
            "Epoch 66/100\n",
            "50000/50000 [==============================] - 9s 171us/step - loss: 1.1991 - acc: 0.6097 - val_loss: 1.4438 - val_acc: 0.5224\n",
            "Epoch 67/100\n",
            "50000/50000 [==============================] - 8s 166us/step - loss: 1.1987 - acc: 0.6110 - val_loss: 1.4437 - val_acc: 0.5215\n",
            "Epoch 68/100\n",
            "50000/50000 [==============================] - 9s 171us/step - loss: 1.1997 - acc: 0.6117 - val_loss: 1.4434 - val_acc: 0.5214\n",
            "Epoch 69/100\n",
            "50000/50000 [==============================] - 9s 171us/step - loss: 1.1975 - acc: 0.6119 - val_loss: 1.4431 - val_acc: 0.5224\n",
            "Epoch 70/100\n",
            "50000/50000 [==============================] - 8s 168us/step - loss: 1.1980 - acc: 0.6108 - val_loss: 1.4433 - val_acc: 0.5208\n",
            "Epoch 71/100\n",
            "50000/50000 [==============================] - 9s 172us/step - loss: 1.1979 - acc: 0.6115 - val_loss: 1.4431 - val_acc: 0.5224\n",
            "Epoch 72/100\n",
            "50000/50000 [==============================] - 8s 168us/step - loss: 1.1991 - acc: 0.6110 - val_loss: 1.4437 - val_acc: 0.5212\n",
            "Epoch 73/100\n",
            "50000/50000 [==============================] - 9s 175us/step - loss: 1.1979 - acc: 0.6113 - val_loss: 1.4434 - val_acc: 0.5205\n",
            "Epoch 74/100\n",
            "50000/50000 [==============================] - 9s 174us/step - loss: 1.1972 - acc: 0.6117 - val_loss: 1.4434 - val_acc: 0.5225\n",
            "Epoch 75/100\n",
            "50000/50000 [==============================] - 9s 176us/step - loss: 1.1957 - acc: 0.6132 - val_loss: 1.4436 - val_acc: 0.5226\n",
            "Epoch 76/100\n",
            "50000/50000 [==============================] - 9s 174us/step - loss: 1.1970 - acc: 0.6129 - val_loss: 1.4434 - val_acc: 0.5217\n",
            "Epoch 77/100\n",
            "50000/50000 [==============================] - 8s 164us/step - loss: 1.1977 - acc: 0.6120 - val_loss: 1.4432 - val_acc: 0.5219\n",
            "Epoch 78/100\n",
            "50000/50000 [==============================] - 8s 169us/step - loss: 1.1974 - acc: 0.6142 - val_loss: 1.4432 - val_acc: 0.5211\n",
            "Epoch 79/100\n",
            "50000/50000 [==============================] - 8s 164us/step - loss: 1.1995 - acc: 0.6096 - val_loss: 1.4433 - val_acc: 0.5211\n",
            "Epoch 80/100\n",
            "50000/50000 [==============================] - 8s 169us/step - loss: 1.1969 - acc: 0.6117 - val_loss: 1.4435 - val_acc: 0.5223\n",
            "Epoch 81/100\n",
            "50000/50000 [==============================] - 8s 170us/step - loss: 1.1961 - acc: 0.6118 - val_loss: 1.4434 - val_acc: 0.5213\n",
            "Epoch 82/100\n",
            "50000/50000 [==============================] - 8s 165us/step - loss: 1.1989 - acc: 0.6124 - val_loss: 1.4434 - val_acc: 0.5214\n",
            "Epoch 83/100\n",
            "50000/50000 [==============================] - 8s 169us/step - loss: 1.1997 - acc: 0.6105 - val_loss: 1.4435 - val_acc: 0.5212\n",
            "Epoch 84/100\n",
            "50000/50000 [==============================] - 8s 164us/step - loss: 1.1994 - acc: 0.6116 - val_loss: 1.4436 - val_acc: 0.5220\n",
            "Epoch 85/100\n",
            "50000/50000 [==============================] - 9s 174us/step - loss: 1.1978 - acc: 0.6117 - val_loss: 1.4433 - val_acc: 0.5214\n",
            "Epoch 86/100\n",
            "50000/50000 [==============================] - 9s 170us/step - loss: 1.1986 - acc: 0.6106 - val_loss: 1.4432 - val_acc: 0.5211\n",
            "Epoch 87/100\n",
            "50000/50000 [==============================] - 9s 170us/step - loss: 1.1996 - acc: 0.6109 - val_loss: 1.4434 - val_acc: 0.5226\n",
            "Epoch 88/100\n",
            "50000/50000 [==============================] - 9s 173us/step - loss: 1.1984 - acc: 0.6124 - val_loss: 1.4438 - val_acc: 0.5214\n",
            "Epoch 89/100\n",
            "50000/50000 [==============================] - 9s 172us/step - loss: 1.1995 - acc: 0.6111 - val_loss: 1.4432 - val_acc: 0.5206\n",
            "Epoch 90/100\n",
            "50000/50000 [==============================] - 9s 176us/step - loss: 1.1983 - acc: 0.6120 - val_loss: 1.4433 - val_acc: 0.5214\n",
            "Epoch 91/100\n",
            "50000/50000 [==============================] - 8s 168us/step - loss: 1.1999 - acc: 0.6112 - val_loss: 1.4439 - val_acc: 0.5212\n",
            "Epoch 92/100\n",
            "50000/50000 [==============================] - 9s 172us/step - loss: 1.1998 - acc: 0.6107 - val_loss: 1.4433 - val_acc: 0.5221\n",
            "Epoch 93/100\n",
            "50000/50000 [==============================] - 9s 173us/step - loss: 1.1983 - acc: 0.6123 - val_loss: 1.4429 - val_acc: 0.5219\n",
            "Epoch 94/100\n",
            "50000/50000 [==============================] - 8s 168us/step - loss: 1.1983 - acc: 0.6112 - val_loss: 1.4435 - val_acc: 0.5221\n",
            "Epoch 95/100\n",
            "50000/50000 [==============================] - 9s 173us/step - loss: 1.1999 - acc: 0.6099 - val_loss: 1.4439 - val_acc: 0.5219\n",
            "Epoch 96/100\n",
            "50000/50000 [==============================] - 8s 166us/step - loss: 1.1971 - acc: 0.6125 - val_loss: 1.4435 - val_acc: 0.5206\n",
            "Epoch 97/100\n",
            "50000/50000 [==============================] - 9s 171us/step - loss: 1.1968 - acc: 0.6104 - val_loss: 1.4436 - val_acc: 0.5223\n",
            "Epoch 98/100\n",
            "50000/50000 [==============================] - 8s 169us/step - loss: 1.1981 - acc: 0.6129 - val_loss: 1.4435 - val_acc: 0.5219\n",
            "Epoch 99/100\n",
            "50000/50000 [==============================] - 8s 167us/step - loss: 1.1978 - acc: 0.6134 - val_loss: 1.4438 - val_acc: 0.5225\n",
            "Epoch 100/100\n",
            "50000/50000 [==============================] - 11s 229us/step - loss: 1.1973 - acc: 0.6126 - val_loss: 1.4436 - val_acc: 0.5212\n"
          ],
          "name": "stdout"
        }
      ]
    },
    {
      "metadata": {
        "id": "jFd3VeB4xWNW",
        "colab_type": "code",
        "colab": {
          "base_uri": "https://localhost:8080/",
          "height": 34
        },
        "outputId": "48cfa30f-b268-47a7-8880-748429b38f9d"
      },
      "cell_type": "code",
      "source": [
        "# lr = K.get_value(model.optimizer.lr)\n",
        "# K.set_value(model.optimizer.lr, lr*0.60)\n",
        "# print((lr, K.get_value(model.optimizer.lr)))"
      ],
      "execution_count": 26,
      "outputs": [
        {
          "output_type": "stream",
          "text": [
            "(2.0000001e-19, 1.2000001e-19)\n"
          ],
          "name": "stdout"
        }
      ]
    },
    {
      "metadata": {
        "id": "fGOR9QcK4Vwk",
        "colab_type": "code",
        "colab": {
          "base_uri": "https://localhost:8080/",
          "height": 365
        },
        "outputId": "aa3128da-b57b-42de-fe2b-4778b120a5fc"
      },
      "cell_type": "code",
      "source": [
        "plt.plot(history.epoch, history.history['loss'], history.epoch, history.history['val_loss'])\n",
        "plt.legend(['Training Loss', 'Validation Loss'])"
      ],
      "execution_count": 67,
      "outputs": [
        {
          "output_type": "execute_result",
          "data": {
            "text/plain": [
              "<matplotlib.legend.Legend at 0x7f59da235940>"
            ]
          },
          "metadata": {
            "tags": []
          },
          "execution_count": 67
        },
        {
          "output_type": "display_data",
          "data": {
            "image/png": "[encoded data removed]",
            "text/plain": [
              "<matplotlib.figure.Figure at 0x7f5a6e0d1240>"
            ]
          },
          "metadata": {
            "tags": []
          }
        }
      ]
    }
  ]
}